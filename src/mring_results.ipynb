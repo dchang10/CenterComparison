{
 "cells": [
  {
   "cell_type": "code",
   "execution_count": 1,
   "id": "5745000d",
   "metadata": {},
   "outputs": [],
   "source": [
    "import numpy as np\n",
    "import h5py\n",
    "import matplotlib.pyplot as plt\n",
    "import os\n",
    "import random\n",
    "import re"
   ]
  },
  {
   "cell_type": "markdown",
   "id": "37288b94",
   "metadata": {},
   "source": [
    "Helper function"
   ]
  },
  {
   "cell_type": "code",
   "execution_count": 2,
   "id": "d760f7b3",
   "metadata": {},
   "outputs": [],
   "source": [
    "def keep_between_delimiters(text, start_delim, end_delim):\n",
    "    # Create a regex pattern to capture text between start_delim and end_delim\n",
    "    pattern = re.compile(re.escape(start_delim) + '(.*?)' + re.escape(end_delim))\n",
    "    # Use re.findall() to extract the captured text\n",
    "    matches = re.findall(pattern, text)\n",
    "    # Join the matched text to form the final result\n",
    "    result = ''.join(matches)\n",
    "    return result"
   ]
  },
  {
   "cell_type": "markdown",
   "id": "ee8e8767",
   "metadata": {},
   "source": [
    "# import VIDA results"
   ]
  },
  {
   "cell_type": "code",
   "execution_count": 3,
   "id": "66d3a6e8",
   "metadata": {
    "scrolled": true
   },
   "outputs": [],
   "source": [
    "# Directory containing your data files\n",
    "out_folder = '../results/mring/selected_sgra_images/'\n",
    "# Directory containing your data files\n",
    "in_folder = '../data/selected_sgra_images/'\n",
    "\n",
    "# List all files in the directory\n",
    "file_names_out = os.listdir(out_folder)\n",
    "# Select txt files only\n",
    "file_names_out = sorted([file for file in file_names_out if file.endswith('.txt')])\n",
    "\n",
    "case_strings = []\n",
    "for filename in file_names_out:\n",
    "    if filename[:-12] not in case_strings:\n",
    "        case_strings.append(filename[:-12])"
   ]
  },
  {
   "cell_type": "code",
   "execution_count": 4,
   "id": "82fa2157",
   "metadata": {},
   "outputs": [],
   "source": [
    "data = []\n",
    "\n",
    "# Loop over each filename in the array\n",
    "for casename in case_strings:\n",
    "    \n",
    "    # Build the required filenames\n",
    "    file_in_n0 = casename + \"_n000.h5\"\n",
    "    file_in_n1 = casename + \"_n001.h5\"\n",
    "    file_out_n0 = casename + \"_n000.h5.txt\"\n",
    "    file_out_n1 = casename + \"_n001.h5.txt\"\n",
    "    \n",
    "    # Get input data\n",
    "    with h5py.File(os.path.join(in_folder, file_in_n0), 'r') as file:\n",
    "        spin = file['fluid_header']['a'][()]\n",
    "        inclination = file['header']['camera']['thetacam'][()]\n",
    "        \n",
    "    # Get output data\n",
    "    with open(out_folder + file_out_n0, 'r') as file:\n",
    "        # Skip the first two lines and read the third\n",
    "        file.readline()\n",
    "        file.readline()\n",
    "        line = file.readline().strip()\n",
    "        # Extract the two shifts\n",
    "        x_n0 = keep_between_delimiters(line, 'x = ', \",\")\n",
    "        x_n0 = float(x_n0)\n",
    "        y_n0 = keep_between_delimiters(line, 'y = ', \")\")\n",
    "        y_n0 = float(y_n0)\n",
    "    with open(out_folder + file_out_n1, 'r') as file:\n",
    "        # Skip the first two lines and read the third\n",
    "        file.readline()\n",
    "        file.readline()\n",
    "        line = file.readline().strip()\n",
    "        # Extract the two shifts\n",
    "        x_n1 = keep_between_delimiters(line, 'x = ', \",\")\n",
    "        x_n1 = float(x_n1)\n",
    "        y_n1 = keep_between_delimiters(line, 'y = ', \")\")\n",
    "        y_n1 = float(y_n1)\n",
    "        \n",
    "    # Calculate the shifts\n",
    "    centroid_shift_x = x_n0 - x_n1\n",
    "    centroid_shift_y = y_n0 - y_n1\n",
    "    \n",
    "    # Append datapoint\n",
    "    data.append([spin, inclination, centroid_shift_x, centroid_shift_y])\n"
   ]
  },
  {
   "cell_type": "markdown",
   "id": "b12f6525",
   "metadata": {},
   "source": [
    "Get the mean and stdv."
   ]
  },
  {
   "cell_type": "code",
   "execution_count": 5,
   "id": "27021c04",
   "metadata": {},
   "outputs": [
    {
     "name": "stdout",
     "output_type": "stream",
     "text": [
      "spin: 0.5\n",
      "inclination: 30.0\n",
      "[mean, stdv] for centroid shift from n0 to n1 in x direction: [1.5789636213769307, 0.3242039198281543]\n",
      "[mean, stdv] for centroid shift from n0 to n1 in y direction: [-4.288499917868721, 0.3487166297794319]\n"
     ]
    }
   ],
   "source": [
    "selected = [] \n",
    "spinselectval = 0.5\n",
    "inclselectval = 30.0\n",
    "for case in data:\n",
    "    if abs(case[0] - spinselectval) < 0.01 and abs(case[1] - inclselectval) < 0.01:\n",
    "        selected.append(case)\n",
    "\n",
    "centroid_shift_x_mean = [np.mean(np.array(selected)[:, -2]), np.std(np.array(selected)[:, -2])]\n",
    "centroid_shift_y_mean = [np.mean(np.array(selected)[:, -1]), np.std(np.array(selected)[:, -1])]\n",
    "\n",
    "print('spin:', spinselectval)\n",
    "print('inclination:', inclselectval)\n",
    "print('[mean, stdv] for centroid shift from n0 to n1 in x direction:', centroid_shift_x_mean)\n",
    "print('[mean, stdv] for centroid shift from n0 to n1 in y direction:', centroid_shift_y_mean)"
   ]
  },
  {
   "cell_type": "code",
   "execution_count": 6,
   "id": "ffc3d5b0",
   "metadata": {},
   "outputs": [
    {
     "name": "stdout",
     "output_type": "stream",
     "text": [
      "spin: 0.5\n",
      "inclination: 50.0\n",
      "[mean, stdv] for centroid shift from n0 to n1 in x direction: [1.6210335561543239, 0.3615517133033279]\n",
      "[mean, stdv] for centroid shift from n0 to n1 in y direction: [-7.772595134699516, 0.5044793386073645]\n"
     ]
    }
   ],
   "source": [
    "selected = [] \n",
    "spinselectval = 0.5\n",
    "inclselectval = 50.0\n",
    "for case in data:\n",
    "    if abs(case[0] - spinselectval) < 0.01 and abs(case[1] - inclselectval) < 0.01:\n",
    "        selected.append(case)\n",
    "\n",
    "centroid_shift_x_mean = [np.mean(np.array(selected)[:, -2]), np.std(np.array(selected)[:, -2])]\n",
    "centroid_shift_y_mean = [np.mean(np.array(selected)[:, -1]), np.std(np.array(selected)[:, -1])]\n",
    "\n",
    "print('spin:', spinselectval)\n",
    "print('inclination:', inclselectval)\n",
    "print('[mean, stdv] for centroid shift from n0 to n1 in x direction:', centroid_shift_x_mean)\n",
    "print('[mean, stdv] for centroid shift from n0 to n1 in y direction:', centroid_shift_y_mean)"
   ]
  },
  {
   "cell_type": "code",
   "execution_count": null,
   "id": "2e52dad3",
   "metadata": {},
   "outputs": [],
   "source": []
  }
 ],
 "metadata": {
  "kernelspec": {
   "display_name": "Python 3 (ipykernel)",
   "language": "python",
   "name": "python3"
  },
  "language_info": {
   "codemirror_mode": {
    "name": "ipython",
    "version": 3
   },
   "file_extension": ".py",
   "mimetype": "text/x-python",
   "name": "python",
   "nbconvert_exporter": "python",
   "pygments_lexer": "ipython3",
   "version": "3.9.7"
  }
 },
 "nbformat": 4,
 "nbformat_minor": 5
}
