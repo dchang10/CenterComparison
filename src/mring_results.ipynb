{
 "cells": [
  {
   "cell_type": "code",
   "execution_count": 61,
   "id": "5745000d",
   "metadata": {},
   "outputs": [],
   "source": [
    "import numpy as np\n",
    "import h5py\n",
    "import matplotlib.pyplot as plt\n",
    "import seaborn as sns\n",
    "import os\n",
    "import random\n",
    "import re\n",
    "import pandas as pd"
   ]
  },
  {
   "cell_type": "markdown",
   "id": "37288b94",
   "metadata": {},
   "source": [
    "Helper function"
   ]
  },
  {
   "cell_type": "code",
   "execution_count": 2,
   "id": "d760f7b3",
   "metadata": {},
   "outputs": [],
   "source": [
    "def keep_between_delimiters(text, start_delim, end_delim):\n",
    "    # Create a regex pattern to capture text between start_delim and end_delim\n",
    "    pattern = re.compile(re.escape(start_delim) + '(.*?)' + re.escape(end_delim))\n",
    "    # Use re.findall() to extract the captured text\n",
    "    matches = re.findall(pattern, text)\n",
    "    # Join the matched text to form the final result\n",
    "    result = ''.join(matches)\n",
    "    return result"
   ]
  },
  {
   "cell_type": "markdown",
   "id": "ee8e8767",
   "metadata": {},
   "source": [
    "# import VIDA results"
   ]
  },
  {
   "cell_type": "code",
   "execution_count": 3,
   "id": "66d3a6e8",
   "metadata": {
    "scrolled": false
   },
   "outputs": [
    {
     "data": {
      "text/plain": [
       "['sgra_Ma+0.5_30_1_0230_1_160',\n",
       " 'sgra_Ma+0.5_30_1_0230_1_40',\n",
       " 'sgra_Ma+0.5_30_2_0230_1_160',\n",
       " 'sgra_Ma+0.5_30_2_0230_1_40',\n",
       " 'sgra_Ma+0.5_30_3_0230_1_160',\n",
       " 'sgra_Ma+0.5_30_3_0230_1_40',\n",
       " 'sgra_Ma+0.5_30_4_0230_1_160',\n",
       " 'sgra_Ma+0.5_30_4_0230_1_40',\n",
       " 'sgra_Ma+0.5_30_5_0230_1_160',\n",
       " 'sgra_Ma+0.5_30_5_0230_1_40',\n",
       " 'sgra_Ma+0.5_50_1_0230_1_10',\n",
       " 'sgra_Ma+0.5_50_2_0230_1_10',\n",
       " 'sgra_Ma+0.5_50_3_0230_1_10',\n",
       " 'sgra_Ma+0.5_50_4_0230_1_10',\n",
       " 'sgra_Ma+0.5_50_5_0230_1_10',\n",
       " 'sgra_Ma+0.94_10_1_0230_1_10',\n",
       " 'sgra_Ma+0.94_10_1_0230_1_160',\n",
       " 'sgra_Ma+0.94_10_1_0230_1_40',\n",
       " 'sgra_Ma+0.94_10_2_0230_1_10',\n",
       " 'sgra_Ma+0.94_10_2_0230_1_160',\n",
       " 'sgra_Ma+0.94_10_2_0230_1_40',\n",
       " 'sgra_Ma+0.94_10_3_0230_1_10',\n",
       " 'sgra_Ma+0.94_10_3_0230_1_160',\n",
       " 'sgra_Ma+0.94_10_3_0230_1_40',\n",
       " 'sgra_Ma+0.94_10_4_0230_1_10',\n",
       " 'sgra_Ma+0.94_10_4_0230_1_160',\n",
       " 'sgra_Ma+0.94_10_4_0230_1_40',\n",
       " 'sgra_Ma+0.94_10_5_0230_1_10',\n",
       " 'sgra_Ma+0.94_10_5_0230_1_160',\n",
       " 'sgra_Ma+0.94_10_5_0230_1_40',\n",
       " 'sgra_Ma+0.94_30_1_0230_1_10',\n",
       " 'sgra_Ma+0.94_30_1_0230_1_160',\n",
       " 'sgra_Ma+0.94_30_1_0230_1_40',\n",
       " 'sgra_Ma+0.94_30_2_0230_1_10',\n",
       " 'sgra_Ma+0.94_30_2_0230_1_160',\n",
       " 'sgra_Ma+0.94_30_2_0230_1_40',\n",
       " 'sgra_Ma+0.94_30_3_0230_1_10',\n",
       " 'sgra_Ma+0.94_30_3_0230_1_160',\n",
       " 'sgra_Ma+0.94_30_3_0230_1_40',\n",
       " 'sgra_Ma+0.94_30_4_0230_1_10',\n",
       " 'sgra_Ma+0.94_30_4_0230_1_160',\n",
       " 'sgra_Ma+0.94_30_4_0230_1_40']"
      ]
     },
     "execution_count": 3,
     "metadata": {},
     "output_type": "execute_result"
    }
   ],
   "source": [
    "# Directory containing your data files\n",
    "out_folder = '../results/mring/selected_sgra_images/'\n",
    "# Directory containing your data files\n",
    "in_folder = '../data/selected_sgra_images/'\n",
    "\n",
    "# List all files in the directory\n",
    "file_names_out = os.listdir(out_folder)\n",
    "# Select txt files only\n",
    "file_names_out = sorted([file for file in file_names_out if file.endswith('.txt')])\n",
    "\n",
    "case_strings = []\n",
    "for filename in file_names_out:\n",
    "    if filename[:-12] not in case_strings:\n",
    "        case_strings.append(filename[:-12])\n",
    "        \n",
    "# THIS IS JUST BECAUSE DATA IS NOT YET CPMPLETE\n",
    "case_strings = case_strings[0:-1]\n",
    "case_strings"
   ]
  },
  {
   "cell_type": "code",
   "execution_count": 4,
   "id": "82fa2157",
   "metadata": {
    "scrolled": true
   },
   "outputs": [],
   "source": [
    "data = []\n",
    "\n",
    "# Loop over each filename in the array\n",
    "for casename in case_strings:\n",
    "    \n",
    "    # Build the required filenames\n",
    "    file_in_n0 = casename + \"_n000.h5\"\n",
    "    file_in_n1 = casename + \"_n001.h5\"\n",
    "    file_out_n0 = casename + \"_n000.h5.txt\"\n",
    "    file_out_n1 = casename + \"_n001.h5.txt\"\n",
    "    \n",
    "    # Get input data\n",
    "    with h5py.File(os.path.join(in_folder, file_in_n0), 'r') as file:\n",
    "        spin = file['fluid_header']['a'][()]\n",
    "        inclination = file['header']['camera']['thetacam'][()]\n",
    "        \n",
    "    # Get output data\n",
    "    with open(out_folder + file_out_n0, 'r') as file:\n",
    "        # Skip the first two lines and read the third\n",
    "        file.readline()\n",
    "        file.readline()\n",
    "        line = file.readline().strip()\n",
    "        # Extract the two shifts\n",
    "        x_n0 = keep_between_delimiters(line, 'x = ', \",\")\n",
    "        x_n0 = float(x_n0)\n",
    "        y_n0 = keep_between_delimiters(line, 'y = ', \")\")\n",
    "        y_n0 = float(y_n0)\n",
    "    with open(out_folder + file_out_n1, 'r') as file:\n",
    "        # Skip the first two lines and read the third\n",
    "        file.readline()\n",
    "        file.readline()\n",
    "        line = file.readline().strip()\n",
    "        # Extract the two shifts\n",
    "        x_n1 = keep_between_delimiters(line, 'x = ', \",\")\n",
    "        x_n1 = float(x_n1)\n",
    "        y_n1 = keep_between_delimiters(line, 'y = ', \")\")\n",
    "        y_n1 = float(y_n1)\n",
    "        \n",
    "    # Calculate the shifts\n",
    "    centroid_shift_x = x_n0 - x_n1\n",
    "    centroid_shift_y = y_n0 - y_n1\n",
    "    \n",
    "    # Append datapoint\n",
    "    data.append([spin, inclination, centroid_shift_x, centroid_shift_y])\n"
   ]
  },
  {
   "cell_type": "markdown",
   "id": "b12f6525",
   "metadata": {},
   "source": [
    "Get the mean and stdv."
   ]
  },
  {
   "cell_type": "code",
   "execution_count": 11,
   "id": "27021c04",
   "metadata": {},
   "outputs": [
    {
     "name": "stdout",
     "output_type": "stream",
     "text": [
      "spin: 0.5\n",
      "inclination: 30.0\n",
      "[mean, stdv] for centroid shift from n0 to n1 in x direction: [1.5789636213769307, 0.3242039198281543]\n",
      "[mean, stdv] for centroid shift from n0 to n1 in y direction: [-4.288499917868721, 0.3487166297794319]\n",
      "for N = 10 GRMHD cases\n"
     ]
    }
   ],
   "source": [
    "selected = [] \n",
    "spinselectval = 0.5\n",
    "inclselectval = 30.0\n",
    "for case in data:\n",
    "    if abs(case[0] - spinselectval) < 0.01 and abs(case[1] - inclselectval) < 0.01:\n",
    "        selected.append(case)\n",
    "\n",
    "centroid_shift_x_mean = [np.mean(np.array(selected)[:, -2]), np.std(np.array(selected)[:, -2])]\n",
    "centroid_shift_y_mean = [np.mean(np.array(selected)[:, -1]), np.std(np.array(selected)[:, -1])]\n",
    "\n",
    "print('spin:', spinselectval)\n",
    "print('inclination:', inclselectval)\n",
    "print('[mean, stdv] for centroid shift from n0 to n1 in x direction:', centroid_shift_x_mean)\n",
    "print('[mean, stdv] for centroid shift from n0 to n1 in y direction:', centroid_shift_y_mean)\n",
    "print('for N =', len(selected), 'GRMHD cases')"
   ]
  },
  {
   "cell_type": "code",
   "execution_count": 12,
   "id": "ffc3d5b0",
   "metadata": {},
   "outputs": [
    {
     "name": "stdout",
     "output_type": "stream",
     "text": [
      "spin: 0.5\n",
      "inclination: 50.0\n",
      "[mean, stdv] for centroid shift from n0 to n1 in x direction: [1.6210333989003078, 0.3615506084283929]\n",
      "[mean, stdv] for centroid shift from n0 to n1 in y direction: [-7.772594772902627, 0.5044796888470179]\n",
      "for N = 5 GRMHD cases\n"
     ]
    }
   ],
   "source": [
    "selected = [] \n",
    "spinselectval = 0.5\n",
    "inclselectval = 50.0\n",
    "for case in data:\n",
    "    if abs(case[0] - spinselectval) < 0.01 and abs(case[1] - inclselectval) < 0.01:\n",
    "        selected.append(case)\n",
    "\n",
    "centroid_shift_x_mean = [np.mean(np.array(selected)[:, -2]), np.std(np.array(selected)[:, -2])]\n",
    "centroid_shift_y_mean = [np.mean(np.array(selected)[:, -1]), np.std(np.array(selected)[:, -1])]\n",
    "\n",
    "print('spin:', spinselectval)\n",
    "print('inclination:', inclselectval)\n",
    "print('[mean, stdv] for centroid shift from n0 to n1 in x direction:', centroid_shift_x_mean)\n",
    "print('[mean, stdv] for centroid shift from n0 to n1 in y direction:', centroid_shift_y_mean)\n",
    "print('for N =', len(selected), 'GRMHD cases')"
   ]
  },
  {
   "cell_type": "code",
   "execution_count": 13,
   "id": "2e52dad3",
   "metadata": {},
   "outputs": [
    {
     "name": "stdout",
     "output_type": "stream",
     "text": [
      "spin: 0.94\n",
      "inclination: 10.0\n",
      "[mean, stdv] for centroid shift from n0 to n1 in x direction: [0.2427992109646059, 0.6982036299644342]\n",
      "[mean, stdv] for centroid shift from n0 to n1 in y direction: [-1.1392387456792685, 0.3010006064185191]\n",
      "for N = 15 GRMHD cases\n"
     ]
    }
   ],
   "source": [
    "selected = [] \n",
    "spinselectval = 0.94\n",
    "inclselectval = 10.0\n",
    "for case in data:\n",
    "    if abs(case[0] - spinselectval) < 0.01 and abs(case[1] - inclselectval) < 0.01:\n",
    "        selected.append(case)\n",
    "\n",
    "centroid_shift_x_mean = [np.mean(np.array(selected)[:, -2]), np.std(np.array(selected)[:, -2])]\n",
    "centroid_shift_y_mean = [np.mean(np.array(selected)[:, -1]), np.std(np.array(selected)[:, -1])]\n",
    "\n",
    "print('spin:', spinselectval)\n",
    "print('inclination:', inclselectval)\n",
    "print('[mean, stdv] for centroid shift from n0 to n1 in x direction:', centroid_shift_x_mean)\n",
    "print('[mean, stdv] for centroid shift from n0 to n1 in y direction:', centroid_shift_y_mean)\n",
    "print('for N =', len(selected), 'GRMHD cases')"
   ]
  },
  {
   "cell_type": "code",
   "execution_count": 14,
   "id": "798b3f01",
   "metadata": {
    "scrolled": true
   },
   "outputs": [
    {
     "name": "stdout",
     "output_type": "stream",
     "text": [
      "spin: 0.94\n",
      "inclination: 30.0\n",
      "[mean, stdv] for centroid shift from n0 to n1 in x direction: [2.3701221164379676, 0.6391895795142543]\n",
      "[mean, stdv] for centroid shift from n0 to n1 in y direction: [-4.261183846492912, 0.28320981376759]\n",
      "for N = 12 GRMHD cases\n"
     ]
    }
   ],
   "source": [
    "selected = [] \n",
    "spinselectval = 0.94\n",
    "inclselectval = 30.0\n",
    "for case in data:\n",
    "    if abs(case[0] - spinselectval) < 0.01 and abs(case[1] - inclselectval) < 0.01:\n",
    "        selected.append(case)\n",
    "\n",
    "centroid_shift_x_mean = [np.mean(np.array(selected)[:, -2]), np.std(np.array(selected)[:, -2])]\n",
    "centroid_shift_y_mean = [np.mean(np.array(selected)[:, -1]), np.std(np.array(selected)[:, -1])]\n",
    "\n",
    "print('spin:', spinselectval)\n",
    "print('inclination:', inclselectval)\n",
    "print('[mean, stdv] for centroid shift from n0 to n1 in x direction:', centroid_shift_x_mean)\n",
    "print('[mean, stdv] for centroid shift from n0 to n1 in y direction:', centroid_shift_y_mean)\n",
    "print('for N =', len(selected), 'GRMHD cases')"
   ]
  },
  {
   "cell_type": "code",
   "execution_count": 33,
   "id": "1a115d14",
   "metadata": {},
   "outputs": [],
   "source": [
    "spins = np.unique(np.array(data)[:,0]).tolist()\n",
    "inclinations = np.unique(np.array(data)[:,1]).tolist()"
   ]
  },
  {
   "cell_type": "code",
   "execution_count": 48,
   "id": "3dfca797",
   "metadata": {},
   "outputs": [],
   "source": [
    "resData = []\n",
    "\n",
    "for spin in spins:\n",
    "    for incl in inclinations:\n",
    "        selected = [] \n",
    "        for case in data:\n",
    "            if abs(case[0] - spin) < 0.01 and abs(case[1] - incl) < 0.01:\n",
    "                selected.append(case)\n",
    "                \n",
    "        if len(selected)>0:\n",
    "            centroid_shift_x_mean = np.mean(np.array(selected)[:, -2]) \n",
    "            centroid_shift_x_stdv = np.std(np.array(selected)[:, -2])\n",
    "            centroid_shift_y_mean = np.mean(np.array(selected)[:, -1]) \n",
    "            centroid_shift_y_stdv = np.std(np.array(selected)[:, -1])\n",
    "            resData.append([\n",
    "                spin,incl,\n",
    "                centroid_shift_x_mean, centroid_shift_x_stdv,\n",
    "                centroid_shift_y_mean, centroid_shift_y_stdv\n",
    "            ])"
   ]
  },
  {
   "cell_type": "code",
   "execution_count": 71,
   "id": "617b3e58",
   "metadata": {},
   "outputs": [
    {
     "data": {
      "text/html": [
       "<div>\n",
       "<style scoped>\n",
       "    .dataframe tbody tr th:only-of-type {\n",
       "        vertical-align: middle;\n",
       "    }\n",
       "\n",
       "    .dataframe tbody tr th {\n",
       "        vertical-align: top;\n",
       "    }\n",
       "\n",
       "    .dataframe thead th {\n",
       "        text-align: right;\n",
       "    }\n",
       "</style>\n",
       "<table border=\"1\" class=\"dataframe\">\n",
       "  <thead>\n",
       "    <tr style=\"text-align: right;\">\n",
       "      <th></th>\n",
       "      <th>spin</th>\n",
       "      <th>incl</th>\n",
       "      <th>x-shift mean</th>\n",
       "      <th>x-shift stdv</th>\n",
       "      <th>y-shift mean</th>\n",
       "      <th>y-shift stdv</th>\n",
       "    </tr>\n",
       "  </thead>\n",
       "  <tbody>\n",
       "    <tr>\n",
       "      <th>0</th>\n",
       "      <td>0.5000</td>\n",
       "      <td>30.0</td>\n",
       "      <td>1.578964</td>\n",
       "      <td>0.324204</td>\n",
       "      <td>-4.288500</td>\n",
       "      <td>0.348717</td>\n",
       "    </tr>\n",
       "    <tr>\n",
       "      <th>1</th>\n",
       "      <td>0.5000</td>\n",
       "      <td>50.0</td>\n",
       "      <td>1.621033</td>\n",
       "      <td>0.361551</td>\n",
       "      <td>-7.772595</td>\n",
       "      <td>0.504480</td>\n",
       "    </tr>\n",
       "    <tr>\n",
       "      <th>2</th>\n",
       "      <td>0.9375</td>\n",
       "      <td>10.0</td>\n",
       "      <td>0.242799</td>\n",
       "      <td>0.698204</td>\n",
       "      <td>-1.139239</td>\n",
       "      <td>0.301001</td>\n",
       "    </tr>\n",
       "    <tr>\n",
       "      <th>3</th>\n",
       "      <td>0.9375</td>\n",
       "      <td>30.0</td>\n",
       "      <td>2.370122</td>\n",
       "      <td>0.639190</td>\n",
       "      <td>-4.261184</td>\n",
       "      <td>0.283210</td>\n",
       "    </tr>\n",
       "  </tbody>\n",
       "</table>\n",
       "</div>"
      ],
      "text/plain": [
       "     spin  incl  x-shift mean  x-shift stdv  y-shift mean  y-shift stdv\n",
       "0  0.5000  30.0      1.578964      0.324204     -4.288500      0.348717\n",
       "1  0.5000  50.0      1.621033      0.361551     -7.772595      0.504480\n",
       "2  0.9375  10.0      0.242799      0.698204     -1.139239      0.301001\n",
       "3  0.9375  30.0      2.370122      0.639190     -4.261184      0.283210"
      ]
     },
     "execution_count": 71,
     "metadata": {},
     "output_type": "execute_result"
    }
   ],
   "source": [
    "pd.DataFrame(\n",
    "    np.array(resData), \n",
    "    columns=['spin', 'incl', 'x-shift mean', 'x-shift stdv', 'y-shift mean', 'y-shift stdv']\n",
    ")"
   ]
  },
  {
   "cell_type": "code",
   "execution_count": 72,
   "id": "8ff70ed8",
   "metadata": {},
   "outputs": [
    {
     "data": {
      "image/png": "[encoded data removed]",
      "text/plain": [
       "<Figure size 432x288 with 2 Axes>"
      ]
     },
     "metadata": {
      "needs_background": "light"
     },
     "output_type": "display_data"
    }
   ],
   "source": [
    "df = pd.DataFrame(np.array(resData)[:,[0,1,2,4]], columns=['spin', 'incl', 'x-shift', 'y-shift'])\n",
    "correlation_matrix = df.corr()\n",
    "\n",
    "sns.heatmap(correlation_matrix, annot=True, cmap='coolwarm', fmt='.2f')\n",
    "plt.title('Correlation Matrix')\n",
    "plt.show()"
   ]
  }
 ],
 "metadata": {
  "kernelspec": {
   "display_name": "Python 3 (ipykernel)",
   "language": "python",
   "name": "python3"
  },
  "language_info": {
   "codemirror_mode": {
    "name": "ipython",
    "version": 3
   },
   "file_extension": ".py",
   "mimetype": "text/x-python",
   "name": "python",
   "nbconvert_exporter": "python",
   "pygments_lexer": "ipython3",
   "version": "3.9.7"
  }
 },
 "nbformat": 4,
 "nbformat_minor": 5
}
