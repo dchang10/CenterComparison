{
 "cells": [
  {
   "cell_type": "code",
   "execution_count": 1,
   "id": "5745000d",
   "metadata": {},
   "outputs": [],
   "source": [
    "import numpy as np\n",
    "import h5py\n",
    "import matplotlib.pyplot as plt\n",
    "import os\n",
    "import random"
   ]
  },
  {
   "cell_type": "markdown",
   "id": "6a752054",
   "metadata": {},
   "source": [
    "I did not push George's data files. These have to be placed in the respective relative path, i.e., '../data/selected_sgra_images/'."
   ]
  },
  {
   "cell_type": "markdown",
   "id": "c4c231fe",
   "metadata": {},
   "source": [
    "# importing and plotting hdf5 files"
   ]
  },
  {
   "cell_type": "markdown",
   "id": "4d1a8e5e",
   "metadata": {},
   "source": [
    "Import all the filenames and check that n=0, n=1, and n=all have the same length."
   ]
  },
  {
   "cell_type": "code",
   "execution_count": 2,
   "id": "a51d85e2",
   "metadata": {},
   "outputs": [
    {
     "name": "stdout",
     "output_type": "stream",
     "text": [
      "105\n",
      "105\n",
      "105\n"
     ]
    }
   ],
   "source": [
    "# Directory containing your data files\n",
    "data_folder = '../data/selected_sgra_images/'\n",
    "\n",
    "# List all files in the directory\n",
    "file_names = os.listdir(data_folder)\n",
    "\n",
    "# Filter files with a specific extension, e.g., HDF5 files\n",
    "hdf5_files_n000 = sorted([file for file in file_names if file.endswith('n000.h5')])\n",
    "hdf5_files_n001 = sorted([file for file in file_names if file.endswith('n001.h5')])\n",
    "hdf5_files_nall = sorted([file for file in file_names if file.endswith('nall.h5')])\n",
    "\n",
    "# Print the list of HDF5 files\n",
    "print(len(hdf5_files_n000))\n",
    "print(len(hdf5_files_n001))\n",
    "print(len(hdf5_files_nall))"
   ]
  },
  {
   "cell_type": "markdown",
   "id": "98310121",
   "metadata": {},
   "source": [
    "Check that the files are now sorted."
   ]
  },
  {
   "cell_type": "code",
   "execution_count": 3,
   "id": "d68478cc",
   "metadata": {},
   "outputs": [
    {
     "name": "stdout",
     "output_type": "stream",
     "text": [
      "sgra_Sa-0.5_70_3_0230_1_1_n000.h5\n",
      "sgra_Sa-0.5_70_3_0230_1_1_n001.h5\n",
      "sgra_Sa-0.5_70_3_0230_1_1_nall.h5\n"
     ]
    }
   ],
   "source": [
    "random_index = random.randint(0, len(hdf5_files_nall) - 1)\n",
    "\n",
    "print(hdf5_files_n000[random_index])\n",
    "print(hdf5_files_n001[random_index])\n",
    "print(hdf5_files_nall[random_index])"
   ]
  },
  {
   "cell_type": "markdown",
   "id": "9ee01ee5",
   "metadata": {},
   "source": [
    "Let's load and look at the images for a specific case."
   ]
  },
  {
   "cell_type": "markdown",
   "id": "2716513b",
   "metadata": {},
   "source": [
    "First, check George's hdf5 format. Turns out that what we need is in 'unpol', I think."
   ]
  },
  {
   "cell_type": "code",
   "execution_count": 4,
   "id": "8630bc72",
   "metadata": {},
   "outputs": [
    {
     "name": "stdout",
     "output_type": "stream",
     "text": [
      "Keys: ['Ftot_unpol', 'Ladv', 'Mdot', 'MdotEdd', 'count', 'fluid_header', 'header', 'nuLnu', 'nuLnu_unpol', 'tau', 'unpol']\n"
     ]
    }
   ],
   "source": [
    "with h5py.File(os.path.join(data_folder, hdf5_files_n000[random_index]), 'r') as file:\n",
    "    # List all the keys (dataset names) in the HDF5 file\n",
    "    print(\"Keys: %s\" % list(file.keys()))"
   ]
  },
  {
   "cell_type": "code",
   "execution_count": 5,
   "id": "0158d388",
   "metadata": {
    "scrolled": true
   },
   "outputs": [
    {
     "name": "stdout",
     "output_type": "stream",
     "text": [
      "Ftot_unpol:  2.13697442535773\n",
      "Ladv:  0.008856732000858325\n",
      "Mdot:  4.346498077218715e+17\n",
      "MdotEdd:  5.736177188287335e+24\n",
      "count:  100\n"
     ]
    }
   ],
   "source": [
    "with h5py.File(os.path.join(data_folder, hdf5_files_n000[random_index]), 'r') as file:\n",
    "    # some seem to be single values\n",
    "    print('Ftot_unpol: ',file['Ftot_unpol'][()])\n",
    "    print('Ladv: ',file['Ladv'][()])\n",
    "    print('Mdot: ',file['Mdot'][()])\n",
    "    print('MdotEdd: ',file['MdotEdd'][()])\n",
    "    print('count: ',file['count'][()])"
   ]
  },
  {
   "cell_type": "code",
   "execution_count": 6,
   "id": "4692b4bd",
   "metadata": {
    "scrolled": false
   },
   "outputs": [
    {
     "name": "stdout",
     "output_type": "stream",
     "text": [
      "Members of the group header:\n",
      "camera\n",
      "dsource\n",
      "electrons\n",
      "evpa_0\n",
      "field_config\n",
      "freqcgs\n",
      "githash\n",
      "scale\n",
      "sigma_cut\n",
      "t\n",
      "units\n",
      "version\n",
      "Members of the group camera:\n",
      "dx\n",
      "dy\n",
      "fovx\n",
      "fovx_dsource\n",
      "fovy\n",
      "fovy_dsource\n",
      "nx\n",
      "ny\n",
      "phicam\n",
      "rcam\n",
      "rotcam\n",
      "thetacam\n",
      "x\n",
      "xoff\n",
      "yoff\n",
      "inclination:\n",
      "70.0\n"
     ]
    }
   ],
   "source": [
    "with h5py.File(os.path.join(data_folder, hdf5_files_n000[random_index]), 'r') as file:\n",
    "    # some other keys are groups\n",
    "    header = file['header']\n",
    "    print(\"Members of the group header:\")\n",
    "    for member in header:\n",
    "        print(member)\n",
    "        \n",
    "    # let's check the 'camera'\n",
    "    camera = header['camera']\n",
    "    print(\"Members of the group camera:\")\n",
    "    for member in camera:\n",
    "        print(member)\n",
    "        \n",
    "    print(\"inclination:\")\n",
    "    print(file['header']['camera']['thetacam'][()])"
   ]
  },
  {
   "cell_type": "markdown",
   "id": "eb66880c",
   "metadata": {},
   "source": [
    "From all of this we now know the inclination.\n"
   ]
  },
  {
   "cell_type": "code",
   "execution_count": 7,
   "id": "7d69003e",
   "metadata": {},
   "outputs": [
    {
     "name": "stdout",
     "output_type": "stream",
     "text": [
      "70.0\n"
     ]
    }
   ],
   "source": [
    "with h5py.File(os.path.join(data_folder, hdf5_files_n000[random_index]), 'r') as file:\n",
    "    print(file['header']['camera']['thetacam'][()])"
   ]
  },
  {
   "cell_type": "code",
   "execution_count": 8,
   "id": "76212732",
   "metadata": {
    "scrolled": true
   },
   "outputs": [
    {
     "name": "stdout",
     "output_type": "stream",
     "text": [
      "Members of the group fluid_header:\n",
      "Tp\n",
      "a\n",
      "add_flags\n",
      "add_jcon\n",
      "base\n",
      "beta_min\n",
      "bsq_over_rho_max\n",
      "cfl\n",
      "coordinates\n",
      "cour\n",
      "dt\n",
      "dump_cadence\n",
      "dx1\n",
      "dx2\n",
      "dx3\n",
      "electrons\n",
      "file_type\n",
      "gam\n",
      "gamma\n",
      "geom\n",
      "ghost_zones\n",
      "gridfile\n",
      "hslope\n",
      "ktot_max\n",
      "metric\n",
      "mks_smooth\n",
      "n1\n",
      "n1tot\n",
      "n2\n",
      "n2tot\n",
      "n3\n",
      "n3tot\n",
      "n_dim\n",
      "n_dump\n",
      "n_prim\n",
      "n_prims_passive\n",
      "n_step\n",
      "ne\n",
      "ng\n",
      "np\n",
      "numlevel\n",
      "nx1\n",
      "nx2\n",
      "nx3\n",
      "on\n",
      "poly_alpha\n",
      "poly_norm\n",
      "poly_xt\n",
      "prim_names\n",
      "problem_id\n",
      "r_eh\n",
      "r_in\n",
      "r_out\n",
      "reconstruction\n",
      "refinement\n",
      "rho_min_geom\n",
      "rin\n",
      "rmax\n",
      "startx1\n",
      "startx2\n",
      "startx3\n",
      "t\n",
      "tf\n",
      "tlim\n",
      "transform\n",
      "type\n",
      "u_jitter\n",
      "u_min_geom\n",
      "variables\n",
      "verbose\n",
      "version\n"
     ]
    }
   ],
   "source": [
    "# Open the HDF5 file\n",
    "with h5py.File(os.path.join(data_folder, hdf5_files_n000[random_index]), 'r') as file:\n",
    "    # some other keys are groups\n",
    "    group = file['fluid_header']\n",
    "    print(\"Members of the group fluid_header:\")\n",
    "    for member in group:\n",
    "        print(member)"
   ]
  },
  {
   "cell_type": "markdown",
   "id": "dfd16a10",
   "metadata": {},
   "source": [
    "And here is the spin."
   ]
  },
  {
   "cell_type": "code",
   "execution_count": 9,
   "id": "3941543f",
   "metadata": {},
   "outputs": [
    {
     "name": "stdout",
     "output_type": "stream",
     "text": [
      "-0.5\n"
     ]
    }
   ],
   "source": [
    "with h5py.File(os.path.join(data_folder, hdf5_files_n000[random_index]), 'r') as file:\n",
    "    print(file['fluid_header']['a'][()])"
   ]
  },
  {
   "cell_type": "markdown",
   "id": "cdff0b1f",
   "metadata": {},
   "source": [
    "Read the files (both n=0 and n=1 for the specific case)."
   ]
  },
  {
   "cell_type": "code",
   "execution_count": 10,
   "id": "21b8332f",
   "metadata": {
    "scrolled": true
   },
   "outputs": [],
   "source": [
    "# Open the HDF5 file\n",
    "with h5py.File(os.path.join(data_folder, hdf5_files_n000[random_index]), 'r') as file:\n",
    "    # read data\n",
    "    unpol_n000 = file['unpol'][()]\n",
    "with h5py.File(os.path.join(data_folder, hdf5_files_n001[random_index]), 'r') as file:\n",
    "    # read data\n",
    "    unpol_n001 = file['unpol'][()]\n",
    "with h5py.File(os.path.join(data_folder, hdf5_files_nall[random_index]), 'r') as file:\n",
    "    # read data\n",
    "    unpol_nall = file['unpol'][()]"
   ]
  },
  {
   "cell_type": "markdown",
   "id": "57511688",
   "metadata": {},
   "source": [
    "Plot the respective data.\n",
    "(I cannot make sense of the nall case.)"
   ]
  },
  {
   "cell_type": "code",
   "execution_count": 11,
   "id": "e10c3e3d",
   "metadata": {},
   "outputs": [
    {
     "data": {
      "image/png": "[encoded data removed]",
      "text/plain": [
       "<Figure size 432x288 with 2 Axes>"
      ]
     },
     "metadata": {
      "needs_background": "light"
     },
     "output_type": "display_data"
    },
    {
     "data": {
      "image/png": "[encoded data removed]",
      "text/plain": [
       "<Figure size 432x288 with 2 Axes>"
      ]
     },
     "metadata": {
      "needs_background": "light"
     },
     "output_type": "display_data"
    },
    {
     "data": {
      "image/png": "[encoded data removed]",
      "text/plain": [
       "<Figure size 432x288 with 2 Axes>"
      ]
     },
     "metadata": {
      "needs_background": "light"
     },
     "output_type": "display_data"
    }
   ],
   "source": [
    "# n=0\n",
    "plt.imshow(unpol_n000, cmap='viridis')  # You can choose any colormap you like\n",
    "plt.colorbar()  # Add a color bar for reference\n",
    "plt.title(hdf5_files_n000[random_index])\n",
    "plt.xlabel('x')\n",
    "plt.ylabel('y')\n",
    "plt.show()\n",
    "\n",
    "# n=1\n",
    "plt.imshow(unpol_n001, cmap='viridis')  # You can choose any colormap you like\n",
    "plt.colorbar()  # Add a color bar for reference\n",
    "plt.title(hdf5_files_n001[random_index])\n",
    "plt.xlabel('x')\n",
    "plt.ylabel('y')\n",
    "plt.show()\n",
    "\n",
    "# n=1\n",
    "plt.imshow(unpol_nall, cmap='viridis')  # You can choose any colormap you like\n",
    "plt.colorbar()  # Add a color bar for reference\n",
    "plt.title(hdf5_files_n001[random_index])\n",
    "plt.xlabel('x')\n",
    "plt.ylabel('y')\n",
    "plt.show()"
   ]
  },
  {
   "cell_type": "markdown",
   "id": "8cdcc90b",
   "metadata": {},
   "source": [
    "# reading George's rex fits"
   ]
  },
  {
   "cell_type": "markdown",
   "id": "727d2d69",
   "metadata": {},
   "source": [
    "If I understand correctly, George already ran rax over all those cases and the output is loaded below."
   ]
  },
  {
   "cell_type": "code",
   "execution_count": 12,
   "id": "e51a4916",
   "metadata": {},
   "outputs": [],
   "source": [
    "rex_data = np.load('rex_statistics_sgra.npy', allow_pickle=True).item()"
   ]
  },
  {
   "cell_type": "markdown",
   "id": "0cda9021",
   "metadata": {},
   "source": [
    "It seems that REX data has only been obtained on a subset. Let's thus select a subset."
   ]
  },
  {
   "cell_type": "code",
   "execution_count": 13,
   "id": "1c10d1ec",
   "metadata": {},
   "outputs": [
    {
     "name": "stdout",
     "output_type": "stream",
     "text": [
      "10\n"
     ]
    }
   ],
   "source": [
    "# Substring to search for\n",
    "substring = \"Ma+0.5_30\"\n",
    "\n",
    "# Select strings containing the substring\n",
    "hdf5_files_n000_MAD = sorted([s for s in hdf5_files_n000 if s.find(substring) != -1])\n",
    "hdf5_files_n001_MAD = sorted([s for s in hdf5_files_n001 if s.find(substring) != -1])\n",
    "hdf5_files_nall_MAD = sorted([s for s in hdf5_files_nall if s.find(substring) != -1])\n",
    "\n",
    "print(len(hdf5_files_n000_MAD))"
   ]
  },
  {
   "cell_type": "markdown",
   "id": "a7cc9347",
   "metadata": {},
   "source": [
    "Here is an example of how to obtain the REX output."
   ]
  },
  {
   "cell_type": "code",
   "execution_count": 14,
   "id": "bb238d58",
   "metadata": {},
   "outputs": [
    {
     "name": "stdout",
     "output_type": "stream",
     "text": [
      "sgra_Ma+0.5_30_2_0230_1_40\n"
     ]
    }
   ],
   "source": [
    "random_index_MAD = random.randint(0, len(hdf5_files_n000_MAD) - 1)\n",
    "print(hdf5_files_n000_MAD[random_index_MAD][:-8])"
   ]
  },
  {
   "cell_type": "markdown",
   "id": "ae89ce1d",
   "metadata": {},
   "source": [
    "Here is an example of this output."
   ]
  },
  {
   "cell_type": "code",
   "execution_count": 15,
   "id": "52a03106",
   "metadata": {
    "scrolled": false
   },
   "outputs": [
    {
     "name": "stdout",
     "output_type": "stream",
     "text": [
      "sgra_Ma+0.5_30_2_0230_1_40\n",
      "n=0 fit params\n",
      "[51.15121739839316, 0.07935784361190201, 4.489140677966887]\n",
      "n=1 fit params\n",
      "[52.73600144887957, -2.1717585014047955, -0.8078729178775887]\n",
      "centroid_shift_x (as n=1 minus n=0)\n",
      "-2.2511163450166976\n",
      "centroid_shift_y (as n=1 minus n=0)\n",
      "-5.297013595844476\n"
     ]
    }
   ],
   "source": [
    "casestring = hdf5_files_n000_MAD[random_index_MAD][:-8]\n",
    "print(casestring)\n",
    "\n",
    "print('n=0 fit params')\n",
    "print(rex_data[casestring][1])\n",
    "\n",
    "print('n=1 fit params')\n",
    "print(rex_data[casestring][2])\n",
    "\n",
    "print('centroid_shift_x (as n=1 minus n=0)')\n",
    "print(rex_data[casestring][2][1] - rex_data[casestring][1][1])\n",
    "\n",
    "print('centroid_shift_y (as n=1 minus n=0)')\n",
    "print(rex_data[casestring][2][2] - rex_data[casestring][1][2])"
   ]
  },
  {
   "cell_type": "markdown",
   "id": "2488cf34",
   "metadata": {},
   "source": [
    "So, let's combine this into a table of (spin, inclination, centroid shift)."
   ]
  },
  {
   "cell_type": "code",
   "execution_count": 16,
   "id": "1365b748",
   "metadata": {},
   "outputs": [],
   "source": [
    "data = []\n",
    "\n",
    "# Loop over each filename in the array\n",
    "for hdf5_file in hdf5_files_n000_MAD:\n",
    "    # prepare only part of the filename for REX\n",
    "    casestring = hdf5_file[:-8]\n",
    "    # Open the HDF5 file\n",
    "    with h5py.File(os.path.join(data_folder, hdf5_file), 'r') as file:\n",
    "        spin = file['fluid_header']['a'][()]\n",
    "        inclination = file['header']['camera']['thetacam'][()]\n",
    "        centroid_shift_x = rex_data[casestring][2][1] - rex_data[casestring][1][1]\n",
    "        centroid_shift_y = rex_data[casestring][2][2] - rex_data[casestring][1][2]\n",
    "    data.append([spin, inclination, centroid_shift_x, centroid_shift_y])"
   ]
  },
  {
   "cell_type": "code",
   "execution_count": 17,
   "id": "27021c04",
   "metadata": {},
   "outputs": [
    {
     "data": {
      "text/plain": [
       "[[0.5, 30.0, -2.3257025019224784, -5.091314582285733],\n",
       " [0.5, 30.0, -2.0564617010417976, -4.9752218467249065],\n",
       " [0.5, 30.0, -2.0419097591509683, -5.4653659721942205],\n",
       " [0.5, 30.0, -2.2511163450166976, -5.297013595844476],\n",
       " [0.5, 30.0, -1.676077384075029, -3.935257862564896],\n",
       " [0.5, 30.0, -1.6237283038589965, -4.092058024587942],\n",
       " [0.5, 30.0, -1.9734334886852736, -5.256515475689156],\n",
       " [0.5, 30.0, -2.109924231434576, -4.93355515754854],\n",
       " [0.5, 30.0, -1.68114176448762, -4.914703015917553],\n",
       " [0.5, 30.0, -2.3578725927475404, -5.493796995699881]]"
      ]
     },
     "execution_count": 17,
     "metadata": {},
     "output_type": "execute_result"
    }
   ],
   "source": [
    "data"
   ]
  },
  {
   "cell_type": "markdown",
   "id": "66c008bd",
   "metadata": {},
   "source": [
    "To me this looks encouraging. All of the cases show a pretty consistent and large centroid shift in the y direction."
   ]
  },
  {
   "cell_type": "markdown",
   "id": "bdc0ff55",
   "metadata": {},
   "source": [
    "However, I am not sure I trust REX after what we did at the workshop."
   ]
  }
 ],
 "metadata": {
  "kernelspec": {
   "display_name": "Python 3 (ipykernel)",
   "language": "python",
   "name": "python3"
  },
  "language_info": {
   "codemirror_mode": {
    "name": "ipython",
    "version": 3
   },
   "file_extension": ".py",
   "mimetype": "text/x-python",
   "name": "python",
   "nbconvert_exporter": "python",
   "pygments_lexer": "ipython3",
   "version": "3.9.7"
  }
 },
 "nbformat": 4,
 "nbformat_minor": 5
}
