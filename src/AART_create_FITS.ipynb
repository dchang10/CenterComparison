{
 "cells": [
  {
   "cell_type": "code",
   "execution_count": 1,
   "id": "c5cc66f6",
   "metadata": {},
   "outputs": [
    {
     "name": "stdout",
     "output_type": "stream",
     "text": [
      "Requirement already satisfied: aart in /home/aaron/anaconda3/lib/python3.9/site-packages (2.0.11)\r\n"
     ]
    }
   ],
   "source": [
    "!pip install aart"
   ]
  },
  {
   "cell_type": "code",
   "execution_count": 2,
   "id": "f93a1ecf",
   "metadata": {},
   "outputs": [],
   "source": [
    "import numpy as np\n",
    "import aart\n",
    "from aart import lensingbands as lb\n",
    "from aart import mkplot\n",
    "from aart import radialintensity as ri\n",
    "from aart import raytracing as rt\n",
    "from aart import visamp as va\n",
    "from aart import iImages as im\n",
    "from aart import iMovies as imov\n",
    "from aart import parameters\n",
    "import h5py\n",
    "import matplotlib.pyplot as plt\n",
    "import scipy\n",
    "import math\n",
    "from scipy.optimize import curve_fit\n",
    "from scipy.ndimage import zoom\n",
    "from matplotlib.ticker import FormatStrFormatter"
   ]
  },
  {
   "cell_type": "code",
   "execution_count": 3,
   "id": "37a5f974",
   "metadata": {},
   "outputs": [
    {
     "name": "stdout",
     "output_type": "stream",
     "text": [
      "Welcome to eht-imaging! v 1.2.7 \n",
      "\n"
     ]
    }
   ],
   "source": [
    "import ehtim as eh"
   ]
  },
  {
   "cell_type": "code",
   "execution_count": 4,
   "id": "e5000e09",
   "metadata": {},
   "outputs": [],
   "source": [
    "bh_obs_data_path='dat/AART/Raytracing/' # Folder for storing the raytracing data\n",
    "fit_path='dat/AART/Fits/' #Folder for storing the fits\n",
    "fig_path='dat/AART/Figures/'#Folder for storing the figures"
   ]
  },
  {
   "cell_type": "code",
   "execution_count": 5,
   "id": "1ed57050",
   "metadata": {},
   "outputs": [],
   "source": [
    "spins=[0.94]\n",
    "inclinations=[45]\n",
    "\n",
    "fudge=[1.0]\n",
    "sub_kep = [1.0]\n",
    "betar = [1.0]\n",
    "betaphi = [1.0]\n",
    "\n",
    "gammap = [-2/2]\n",
    "sigmap = [3]\n",
    "mup=[2.0]\n",
    "\n",
    "limits=20 \n",
    "dx0=.05\n",
    "dx1=.05\n",
    "dx2=limits"
   ]
  },
  {
   "cell_type": "code",
   "execution_count": 6,
   "id": "d8e36cda",
   "metadata": {},
   "outputs": [],
   "source": [
    "params=parameters.generate_dict(spins, inclinations, fudge, mup=mup, sub_kep=sub_kep, betar=betar, \n",
    "                                betaphi=betaphi, gammap=gammap, sigmap=sigmap, path=bh_obs_data_path,\n",
    "                                dx0=dx0,dx1=dx1,dx2=dx2, limits=limits)"
   ]
  },
  {
   "cell_type": "code",
   "execution_count": 7,
   "id": "41ec06cb",
   "metadata": {},
   "outputs": [
    {
     "name": "stdout",
     "output_type": "stream",
     "text": [
      "Number of points in the n=0 grid  640000\n",
      "Number of points in the n=1 grid  640000\n",
      "Number of points in the n=2 grid  4\n",
      "File  dat/AART/Raytracing/LensingBands_a_0.94_i_45_dx0_0.05_dx1_0.05_dx2_20.h5  created.\n",
      "CPU times: user 1min 26s, sys: 392 ms, total: 1min 26s\n",
      "Wall time: 1min 26s\n"
     ]
    }
   ],
   "source": [
    "%time lb.clb(**params)"
   ]
  },
  {
   "cell_type": "code",
   "execution_count": 8,
   "id": "484ea4b7",
   "metadata": {
    "scrolled": true
   },
   "outputs": [
    {
     "name": "stdout",
     "output_type": "stream",
     "text": [
      "Reading file:  dat/AART/Raytracing/LensingBands_a_0.94_i_45_dx0_0.05_dx1_0.05_dx2_20.h5\n",
      "Analytical ray-tracing of the n=0 band points\n",
      "Analytical ray-tracing of the n=1 band points\n",
      "Analytical ray-tracing of the n=2 band points\n",
      "File  dat/AART/Raytracing/Rays_a_0.94_i_45_bv_0.h5  created.\n",
      "\n",
      "A total of 1280004 photons were ray-traced\n",
      "CPU times: user 59.4 s, sys: 388 ms, total: 59.7 s\n",
      "Wall time: 59.8 s\n"
     ]
    }
   ],
   "source": [
    "%time rt.raytrace(**params)"
   ]
  },
  {
   "cell_type": "code",
   "execution_count": 31,
   "id": "d2a02a6c",
   "metadata": {},
   "outputs": [],
   "source": [
    "length = 10\n",
    "\n",
    "spins = (np.ones(length)*spins[0]).tolist()\n",
    "\n",
    "fudge = (np.ones(length)*1.0).tolist()\n",
    "sub_kep = (np.ones(length)*1.0).tolist()\n",
    "betar = (np.ones(length)*1.0).tolist()\n",
    "betaphi = (np.ones(length)*1.0).tolist()\n",
    "\n",
    "gammap = np.round(np.random.uniform(-2, +2, length),2).tolist()\n",
    "sigmap = np.round(np.random.uniform(0, +3, length),2).tolist()\n",
    "mup = np.round(np.random.uniform(1, 8, length),2).tolist()"
   ]
  },
  {
   "cell_type": "code",
   "execution_count": 32,
   "id": "99ea9df9",
   "metadata": {},
   "outputs": [
    {
     "data": {
      "text/plain": [
       "[-0.42, -1.74, 1.4, 0.29, 1.96, -0.5, 1.92, 0.14, 0.76, 0.24]"
      ]
     },
     "execution_count": 32,
     "metadata": {},
     "output_type": "execute_result"
    }
   ],
   "source": [
    "gammap"
   ]
  },
  {
   "cell_type": "code",
   "execution_count": 10,
   "id": "ca83d80b",
   "metadata": {},
   "outputs": [],
   "source": [
    "params=parameters.generate_dict(spins, inclinations, fudge, mup=mup, sub_kep=sub_kep, betar=betar, \n",
    "                                betaphi=betaphi, gammap=gammap, sigmap=sigmap, path=bh_obs_data_path,\n",
    "                                dx0=dx0,dx1=dx1,dx2=dx2, limits=limits)"
   ]
  },
  {
   "cell_type": "code",
   "execution_count": 11,
   "id": "df18dd31",
   "metadata": {},
   "outputs": [
    {
     "name": "stdout",
     "output_type": "stream",
     "text": [
      "Reading file:  dat/AART/Raytracing/LensingBands_a_0.94_i_45_dx0_0.05_dx1_0.05_dx2_20.h5\n",
      "Reading file:  dat/AART/Raytracing/Rays_a_0.94_i_45_bv_0.h5\n",
      "File  dat/AART/Raytracing/Intensity_a_0.94_i_45_sk_1.0_bphi_1.0_br_1.0_bvapp_0_gfact_3_mp_1.318_gp_-1.907_sp_1.369.h5  created.\n",
      "Reading file:  dat/AART/Raytracing/LensingBands_a_0.94_i_45_dx0_0.05_dx1_0.05_dx2_20.h5\n",
      "Reading file:  dat/AART/Raytracing/Rays_a_0.94_i_45_bv_0.h5\n",
      "File  dat/AART/Raytracing/Intensity_a_0.94_i_45_sk_1.0_bphi_1.0_br_1.0_bvapp_0_gfact_3_mp_6.199_gp_-1.717_sp_2.858.h5  created.\n",
      "Reading file:  dat/AART/Raytracing/LensingBands_a_0.94_i_45_dx0_0.05_dx1_0.05_dx2_20.h5\n",
      "Reading file:  dat/AART/Raytracing/Rays_a_0.94_i_45_bv_0.h5\n",
      "File  dat/AART/Raytracing/Intensity_a_0.94_i_45_sk_1.0_bphi_1.0_br_1.0_bvapp_0_gfact_3_mp_7.802_gp_-1.571_sp_2.642.h5  created.\n",
      "Reading file:  dat/AART/Raytracing/LensingBands_a_0.94_i_45_dx0_0.05_dx1_0.05_dx2_20.h5\n",
      "Reading file:  dat/AART/Raytracing/Rays_a_0.94_i_45_bv_0.h5\n",
      "File  dat/AART/Raytracing/Intensity_a_0.94_i_45_sk_1.0_bphi_1.0_br_1.0_bvapp_0_gfact_3_mp_8.043_gp_-1.709_sp_3.034.h5  created.\n",
      "Reading file:  dat/AART/Raytracing/LensingBands_a_0.94_i_45_dx0_0.05_dx1_0.05_dx2_20.h5\n",
      "Reading file:  dat/AART/Raytracing/Rays_a_0.94_i_45_bv_0.h5\n",
      "File  dat/AART/Raytracing/Intensity_a_0.94_i_45_sk_1.0_bphi_1.0_br_1.0_bvapp_0_gfact_3_mp_4.612_gp_-1.619_sp_3.041.h5  created.\n",
      "Reading file:  dat/AART/Raytracing/LensingBands_a_0.94_i_45_dx0_0.05_dx1_0.05_dx2_20.h5\n",
      "Reading file:  dat/AART/Raytracing/Rays_a_0.94_i_45_bv_0.h5\n",
      "File  dat/AART/Raytracing/Intensity_a_0.94_i_45_sk_1.0_bphi_1.0_br_1.0_bvapp_0_gfact_3_mp_1.256_gp_-1.638_sp_4.737.h5  created.\n",
      "Reading file:  dat/AART/Raytracing/LensingBands_a_0.94_i_45_dx0_0.05_dx1_0.05_dx2_20.h5\n",
      "Reading file:  dat/AART/Raytracing/Rays_a_0.94_i_45_bv_0.h5\n",
      "File  dat/AART/Raytracing/Intensity_a_0.94_i_45_sk_1.0_bphi_1.0_br_1.0_bvapp_0_gfact_3_mp_4.423_gp_-1.271_sp_1.585.h5  created.\n",
      "Reading file:  dat/AART/Raytracing/LensingBands_a_0.94_i_45_dx0_0.05_dx1_0.05_dx2_20.h5\n",
      "Reading file:  dat/AART/Raytracing/Rays_a_0.94_i_45_bv_0.h5\n",
      "File  dat/AART/Raytracing/Intensity_a_0.94_i_45_sk_1.0_bphi_1.0_br_1.0_bvapp_0_gfact_3_mp_6.424_gp_-1.666_sp_4.911.h5  created.\n",
      "Reading file:  dat/AART/Raytracing/LensingBands_a_0.94_i_45_dx0_0.05_dx1_0.05_dx2_20.h5\n",
      "Reading file:  dat/AART/Raytracing/Rays_a_0.94_i_45_bv_0.h5\n",
      "File  dat/AART/Raytracing/Intensity_a_0.94_i_45_sk_1.0_bphi_1.0_br_1.0_bvapp_0_gfact_3_mp_5.941_gp_-1.795_sp_4.929.h5  created.\n",
      "Reading file:  dat/AART/Raytracing/LensingBands_a_0.94_i_45_dx0_0.05_dx1_0.05_dx2_20.h5\n",
      "Reading file:  dat/AART/Raytracing/Rays_a_0.94_i_45_bv_0.h5\n",
      "File  dat/AART/Raytracing/Intensity_a_0.94_i_45_sk_1.0_bphi_1.0_br_1.0_bvapp_0_gfact_3_mp_4.756_gp_-1.441_sp_2.641.h5  created.\n",
      "CPU times: user 2.17 s, sys: 504 ms, total: 2.67 s\n",
      "Wall time: 2.66 s\n"
     ]
    }
   ],
   "source": [
    "%time ri.cintensity(**params)"
   ]
  },
  {
   "cell_type": "code",
   "execution_count": 12,
   "id": "23f091a3",
   "metadata": {},
   "outputs": [],
   "source": [
    "# Distance to the BH in meters (default: M87)\n",
    "dBH=5.214795112e23  \n",
    "# BH mass-to-distance ratio (default: 1/psi= 6.2e9 Kg)\n",
    "psi=1.07473555940836 \n",
    "#Observer's distance in units of M\n",
    "D_obs=10000 \n",
    "\n",
    "Gc=6.67e-11 # G constant [m^3 kg^-1 s^-2]\n",
    "cc= 2.99792458e8 # c constant [m/s]\n",
    "Msc=1.988435e30 # Solar Mass [Kg]\n",
    "\n",
    "MMkg= 6.2e9*psi*Msc # [Kg]\n",
    "MM=MMkg *Gc/cc**2 # Mass of the BH in meters, i.e., for M87(psi*6.2*10^9) psi (\"Best fit\") Solar Masses \n",
    "\n",
    "# Size of the real image in meters\n",
    "sizeim_Real=(limits)*MM \n",
    "#1 microarcsec in radians\n",
    "muas_to_rad = np.pi/648000 *1e-6 \n",
    "fov_Real=np.arctan(sizeim_Real/(dBH))/muas_to_rad #muas\n",
    "\n",
    "M87_ra = 12.51372\n",
    "M87_dec = 12.39"
   ]
  },
  {
   "cell_type": "code",
   "execution_count": 13,
   "id": "3444d7d2",
   "metadata": {},
   "outputs": [],
   "source": [
    "for it in range(len(spins)):\n",
    "\n",
    "    # define filename arrays\n",
    "\n",
    "    fnrays=\"./dat/AART/Raytracing/Intensity_a_%s_i_%s_sk_%s_bphi_%s_br_%s_bvapp_0_gfact_3_mp_%s_gp_%s_sp_%s.h5\"%(\n",
    "        spins[it],inclinations[0],sub_kep[it],betaphi[it],betar[it],mup[it],gammap[it],sigmap[it]\n",
    "    )\n",
    "    fnFITS_I0=\"./dat/AART/FITS/I0_a_%s_i_%s_sk_%s_bphi_%s_br_%s_bvapp_0_gfact_3_mp_%s_gp_%s_sp_%s.fits\"%(\n",
    "        spins[it],inclinations[0],sub_kep[it],betaphi[it],betar[it],mup[it],gammap[it],sigmap[it]\n",
    "    )\n",
    "    fnFITS_I1=\"./dat/AART/FITS/I1_a_%s_i_%s_sk_%s_bphi_%s_br_%s_bvapp_0_gfact_3_mp_%s_gp_%s_sp_%s.fits\"%(\n",
    "        spins[it],inclinations[0],sub_kep[it],betaphi[it],betar[it],mup[it],gammap[it],sigmap[it]\n",
    "    )\n",
    "    fnFITS_Itot=\"./dat/AART/FITS/Itot_a_%s_i_%s_sk_%s_bphi_%s_br_%s_bvapp_0_gfact_3_mp_%s_gp_%s_sp_%s.fits\"%(\n",
    "        spins[it],inclinations[0],sub_kep[it],betaphi[it],betar[it],mup[it],gammap[it],sigmap[it]\n",
    "    )\n",
    "    \n",
    "    # import AART files\n",
    "\n",
    "    h5f = h5py.File(fnrays,'r')\n",
    "\n",
    "    I0=h5f['bghts0'][:]\n",
    "    I1=h5f['bghts1'][:]\n",
    "\n",
    "    h5f.close()\n",
    "\n",
    "    Itot = I0 + I1\n",
    "\n",
    "    # produce an ehtim image of I0 and export as FITS\n",
    "\n",
    "    im0 =  eh.image.make_empty(\n",
    "        I0.shape[0], \n",
    "        2*fov_Real*eh.RADPERUAS, \n",
    "        M87_ra, M87_dec, 230e9, 'M87'\n",
    "    )\n",
    "    im0.ivec = (I0).flatten()\n",
    "    im0.save_fits(fnFITS_I0)\n",
    "\n",
    "    # produce an ehtim image of I1 and export as FITS\n",
    "\n",
    "    im1 =  eh.image.make_empty(\n",
    "        I1.shape[0], \n",
    "        2*fov_Real*eh.RADPERUAS, \n",
    "        M87_ra, M87_dec, 230e9, 'M87'\n",
    "    )\n",
    "    im1.ivec = (I1).flatten()\n",
    "    im1.save_fits(fnFITS_I1)\n",
    "\n",
    "    # produce an ehtim image of Itot and export as FITS\n",
    "\n",
    "    imtot =  eh.image.make_empty(\n",
    "        Itot.shape[0], \n",
    "        2*fov_Real*eh.RADPERUAS, \n",
    "        M87_ra, M87_dec, 230e9, 'M87'\n",
    "    )\n",
    "    imtot.ivec = (Itot).flatten()\n",
    "    imtot.save_fits(fnFITS_Itot)"
   ]
  },
  {
   "cell_type": "code",
   "execution_count": 14,
   "id": "cf10ccd4",
   "metadata": {},
   "outputs": [
    {
     "data": {
      "text/plain": [
       "10"
      ]
     },
     "execution_count": 14,
     "metadata": {},
     "output_type": "execute_result"
    }
   ],
   "source": [
    "len(spins)"
   ]
  },
  {
   "cell_type": "code",
   "execution_count": 24,
   "id": "a9157f1e",
   "metadata": {},
   "outputs": [
    {
     "name": "stdout",
     "output_type": "stream",
     "text": [
      "Reading file:  ./dat/AART/Raytracing/Intensity_a_0.94_i_45_sk_1.0_bphi_1.0_br_1.0_bvapp_0_gfact_3_mp_4.756_gp_-1.441_sp_2.641.h5\n"
     ]
    },
    {
     "data": {
      "image/png": "[encoded data removed]",
      "text/plain": [
       "<Figure size 400x400 with 1 Axes>"
      ]
     },
     "metadata": {
      "needs_background": "light"
     },
     "output_type": "display_data"
    }
   ],
   "source": [
    "it = np.random.randint(len(spins))\n",
    "\n",
    "fnrays=\"./dat/AART/Raytracing/Intensity_a_%s_i_%s_sk_%s_bphi_%s_br_%s_bvapp_0_gfact_3_mp_%s_gp_%s_sp_%s.h5\"%(\n",
    "    spins[it],inclinations[0],sub_kep[it],betaphi[it],betar[it],mup[it],gammap[it],sigmap[it]\n",
    ")\n",
    "\n",
    "print(\"Reading file: \",fnrays)\n",
    "\n",
    "h5f = h5py.File(fnrays,'r')\n",
    "\n",
    "I0=h5f['bghts0'][:]\n",
    "I1=h5f['bghts1'][:]\n",
    "\n",
    "h5f.close()\n",
    "\n",
    "lim0=limits\n",
    "fig, ax = plt.subplots(figsize=[2,2],dpi=200)\n",
    "\n",
    "ax.imshow(I0+I1,vmax=np.max(I0+I1)*1.2,origin=\"lower\",cmap=\"afmhot\",extent=[-lim0,lim0,-lim0,lim0])\n",
    "\n",
    "ax.set_xlim(-lim0,lim0)\n",
    "ax.set_ylim(-lim0,lim0)\n",
    "    \n",
    "ax.set_xlabel(r\"$\\alpha$\"+\" \"+\"(M)\")\n",
    "ax.set_ylabel(r\"$\\beta$\"+\" \"+\"(M)\")\n",
    "\n",
    "#plt.savefig('BHImage.png',dpi=200,bbox_inches='tight')\n",
    "\n",
    "plt.show()"
   ]
  },
  {
   "cell_type": "code",
   "execution_count": 16,
   "id": "b6e5adb1",
   "metadata": {},
   "outputs": [],
   "source": [
    "im0.save_fits('./dat/AART/FITS/I0.fits')"
   ]
  },
  {
   "cell_type": "code",
   "execution_count": null,
   "id": "91be1f77",
   "metadata": {},
   "outputs": [],
   "source": []
  }
 ],
 "metadata": {
  "kernelspec": {
   "display_name": "Python 3 (ipykernel)",
   "language": "python",
   "name": "python3"
  },
  "language_info": {
   "codemirror_mode": {
    "name": "ipython",
    "version": 3
   },
   "file_extension": ".py",
   "mimetype": "text/x-python",
   "name": "python",
   "nbconvert_exporter": "python",
   "pygments_lexer": "ipython3",
   "version": "3.9.7"
  }
 },
 "nbformat": 4,
 "nbformat_minor": 5
}
